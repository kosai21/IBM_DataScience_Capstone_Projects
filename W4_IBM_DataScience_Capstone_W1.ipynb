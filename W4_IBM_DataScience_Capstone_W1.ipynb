{
 "cells": [
  {
   "cell_type": "markdown",
   "metadata": {},
   "source": [
    "## Capstone Project - The Battle of Neighborhoods (Week 1)"
   ]
  },
  {
   "cell_type": "markdown",
   "metadata": {},
   "source": [
    "### Introduction\n",
    "\n",
    "California is a very popular place for innovation and startup. 41 million population is big enough for market size and we think most people consume coffee daily. We discuss with our investor to open a coffee shop in California. So we explore a popular coffee shop and their location data using data science techniques. "
   ]
  },
  {
   "cell_type": "markdown",
   "metadata": {},
   "source": [
    "### Data\n",
    "\n",
    "We try to take data techniques advantage for making decisions for our business. We'll use California data from Kaggle datasets [here](https://www.kaggle.com/camnugent/california-housing-prices) and Foursquare API. We explore about following.\n",
    "\n",
    "- The number of coffee shops and popular places.\n",
    "- Most crowded area of the city and rental prices.\n",
    "- The popular place in California."
   ]
  }
 ],
 "metadata": {
  "language_info": {
   "codemirror_mode": {
    "name": "ipython",
    "version": 3
   },
   "file_extension": ".py",
   "mimetype": "text/x-python",
   "name": "python",
   "nbconvert_exporter": "python",
   "pygments_lexer": "ipython3",
   "version": 3
  },
  "orig_nbformat": 2
 },
 "nbformat": 4,
 "nbformat_minor": 2
}